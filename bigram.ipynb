{
 "cells": [
  {
   "cell_type": "code",
   "execution_count": 27,
   "metadata": {},
   "outputs": [],
   "source": [
    "with open(\"words_alpha.txt\") as word_file:\n",
    "    words = word_file.read().splitlines()\n",
    "\n"
   ]
  },
  {
   "cell_type": "code",
   "execution_count": 28,
   "metadata": {},
   "outputs": [],
   "source": [
    "# A simple Bigram model\n",
    "from string import ascii_lowercase\n",
    "itoc = {i+1: c for i, c in enumerate(ascii_lowercase)}\n",
    "ctoi = {c: i+1 for i, c in enumerate(ascii_lowercase)}\n",
    "itoc[0] = '|'\n",
    "ctoi['|'] = 0\n"
   ]
  },
  {
   "cell_type": "code",
   "execution_count": 29,
   "metadata": {},
   "outputs": [],
   "source": [
    "#import Pytorch\n",
    "import torch\n",
    "import torch.nn as nn\n",
    "import torch.nn.functional as F"
   ]
  },
  {
   "cell_type": "code",
   "execution_count": 30,
   "metadata": {},
   "outputs": [],
   "source": [
    "bigram = torch.zeros((27,27))\n",
    "for i in words:\n",
    "    word = '|'+i+'|'\n",
    "    for x,y in zip(word, word[1:]):\n",
    "        bigram[ctoi[x], ctoi[y]] += 1\n",
    "bigram /= bigram.sum(1, keepdim=True)"
   ]
  },
  {
   "cell_type": "code",
   "execution_count": 58,
   "metadata": {},
   "outputs": [
    {
     "name": "stdout",
     "output_type": "stream",
     "text": [
      "['marbs', 'mencs', 'la', 'conexefenins', 'hiouncowed']\n"
     ]
    }
   ],
   "source": [
    "# A sample from the bigram\n",
    "sample_words = []\n",
    "char = '|'\n",
    "for i in range(5):\n",
    "    s = []\n",
    "    while True:\n",
    "        char = itoc[torch.multinomial(bigram[ctoi[char]], 1).item()]\n",
    "        if char == '|':\n",
    "            break\n",
    "        s.append(char)\n",
    "    sample_words.append(''.join(s))\n",
    "print(sample_words)"
   ]
  }
 ],
 "metadata": {
  "kernelspec": {
   "display_name": "Python 3",
   "language": "python",
   "name": "python3"
  },
  "language_info": {
   "codemirror_mode": {
    "name": "ipython",
    "version": 3
   },
   "file_extension": ".py",
   "mimetype": "text/x-python",
   "name": "python",
   "nbconvert_exporter": "python",
   "pygments_lexer": "ipython3",
   "version": "3.11.0"
  },
  "orig_nbformat": 4,
  "vscode": {
   "interpreter": {
    "hash": "c261aea317cc0286b3b3261fbba9abdec21eaa57589985bb7a274bf54d6cc0a7"
   }
  }
 },
 "nbformat": 4,
 "nbformat_minor": 2
}
